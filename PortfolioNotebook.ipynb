{
 "cells": [
  {
   "cell_type": "markdown",
   "source": [
    "# Sloan Digital Sky Survey DR12 Server Data Analysis\r\n",
    "## F21DL Data Mining and Machine Learning Portfolio\r\n",
    "## Callum Taylor\r\n",
    "## 4th Year MEng Software Engineering\r\n",
    "***\r\n",
    "## Overview of Dataset\r\n",
    "The Sloan Digital Sky Survey __[SDSS](https://www.sdss.org/)__, maps one quarter of the entire sky in extensive detail, calculating the positions and absolute visibilities of hundreds of millions of celestial objects in space, while systematically measuring distances to hundreds of millions of galaxies and __[quasars](https://www.britannica.com/science/quasar)__.\r\n",
    "\r\n",
    "The dataset chosen contains over 100,000 instances with 16 different features and 1 target variable present, all of which are representing unique objects viewed by SDSS in space. This dataset was chosen due to having an extensive amount of instances and features, which can be analysed more deeply using machine learning by training a model using this data to help classification of other celestial objects in space. Features that include all 5 bands of the telescope photometric system called CCD that uses bands respectively named (u, g, r, i, z) that is used by SDSS and other important features, like redshift which is crucial to astronomers understanding of how much a photon's wavelength has stretched out when travelling from one object to another in space.\r\n",
    "\r\n",
    "## Analysis of Features\r\n",
    "16 variables (double) and 1 additional variable (char) 'class'.\r\n",
    "A class object can be predicted from the other 16 variables.\r\n",
    "\r\n",
    "### Variables description:<br>\r\n",
    "objid = Object Identifier<br>\r\n",
    "ra = J2000 Right Ascension (r-band)<br>\r\n",
    "dec = J2000 Declination (r-band)<br>\r\n",
    "u = better of deV/Exp magnitude fit (u-band)<br>\r\n",
    "g = better of deV/Exp magnitude fit (g-band)<br>\r\n",
    "r = better of deV/Exp magnitude fit (r-band)<br>\r\n",
    "i = better of deV/Exp magnitude fit (i-band)<br>\r\n",
    "z = better of deV/Exp magnitude fit (z-band)<br>\r\n",
    "run = Run Number<br>\r\n",
    "rerun = Rerun Number<br>\r\n",
    "camcol = Camera column<br>\r\n",
    "field = Field number<br>\r\n",
    "specobjid = Object Identifier<br>\r\n",
    "class = object class (galaxy, star or quasar object)<br>\r\n",
    "redshift = Final Redshift<br>\r\n",
    "plate = plate number<br>\r\n",
    "mjd = MJD of observation<br>\r\n",
    "fiberid = fiberID<br>\r\n",
    "\r\n",
    "\r\n"
   ],
   "metadata": {}
  },
  {
   "cell_type": "code",
   "execution_count": null,
   "source": [],
   "outputs": [],
   "metadata": {}
  }
 ],
 "metadata": {
  "orig_nbformat": 4,
  "language_info": {
   "name": "python",
   "version": "3.8.8"
  },
  "kernelspec": {
   "name": "python3",
   "display_name": "Python 3.8.8 64-bit ('base': conda)"
  },
  "interpreter": {
   "hash": "62c95e99237af2378f1ef5afb241d0a0f8e6d9f52b046f51f6de2dd208ad2ab4"
  }
 },
 "nbformat": 4,
 "nbformat_minor": 2
}